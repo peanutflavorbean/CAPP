{
 "cells": [
  {
   "cell_type": "code",
   "execution_count": 90,
   "metadata": {},
   "outputs": [
    {
     "name": "stdout",
     "output_type": "stream",
     "text": [
      "[array([  0.,   0.,   5.,   5.,  10.,  15.,  20.,  25.,  30.,  35.,  40.,\n",
      "         45.,  50.,  55.,  60.,  65.,  70.,  75.,  80.,  85.,  90.,  95.,\n",
      "        100., 105., 110., 115., 120., 125., 130., 135., 140., 145., 150.,\n",
      "        155., 160., 165., 170., 175., 180.])\n",
      " array([1.5037, 1.5212, 1.5038, 1.5221, 1.5247, 1.5289, 1.535 , 1.5427,\n",
      "        1.5518, 1.5624, 1.574 , 1.5867, 1.6002, 1.6145, 1.6294, 1.6446,\n",
      "        1.6601, 1.6758, 1.6913, 1.7067, 1.7219, 1.7364, 1.7506, 1.7645,\n",
      "        1.7773, 1.7895, 1.8009, 1.8114, 1.8207, 1.8292, 1.8368, 1.8436,\n",
      "        1.8494, 1.8542, 1.8581, 1.8613, 1.8634, 1.8646, 1.8649])\n",
      " array([0.057456, 0.71851 , 0.051616, 0.72431 , 0.73496 , 0.74629 ,\n",
      "        0.75302 , 0.75975 , 0.76216 , 0.76297 , 0.7621  , 0.7609  ,\n",
      "        0.75898 , 0.75678 , 0.75465 , 0.75207 , 0.74944 , 0.74679 ,\n",
      "        0.74388 , 0.74124 , 0.73881 , 0.73542 , 0.73281 , 0.73103 ,\n",
      "        0.7289  , 0.72683 , 0.72524 , 0.724   , 0.72196 , 0.72066 ,\n",
      "        0.7199  , 0.7195  , 0.71919 , 0.71881 , 0.71038 , 0.71822 ,\n",
      "        0.71901 , 0.71846 , 0.71846 ])\n",
      " array([2201333.333, 1620066.667, 2209600.   , 1617733.333, 1608666.667,\n",
      "        1608800.   , 1581666.667, 1594600.   , 1593133.333, 1587866.667,\n",
      "        1589666.667, 1590533.333, 1591666.667, 1595200.   , 1588866.667,\n",
      "        1590400.   , 1590466.667, 1587000.   , 1593800.   , 1595400.   ,\n",
      "        1589200.   , 1612933.333, 1617000.   , 1606333.333, 1611133.333,\n",
      "        1618866.667, 1619533.333, 1618800.   , 1642000.   , 1652600.   ,\n",
      "        1660000.   , 1654866.667, 1658133.333, 1658200.   , 1669533.333,\n",
      "        1653000.   , 1649600.   , 1654866.667, 1661600.   ])\n",
      " array([15205333.33, 13714000.  , 15186000.  , 13745333.33, 13662000.  ,\n",
      "        13754666.67, 13540666.67, 13680666.67, 13667333.33, 13694666.67,\n",
      "        13725333.33, 13636666.67, 13613333.33, 13626666.67, 13666000.  ,\n",
      "        13596000.  , 13590666.67, 13559333.33, 13577333.33, 13562000.  ,\n",
      "        13509333.33, 13507333.33, 13523333.33, 13504000.  , 13440666.67,\n",
      "        13403333.33, 13432666.67, 13415333.33, 13299333.33, 13340000.  ,\n",
      "        13259333.33, 13248666.67, 13136000.  , 13160666.67, 13254000.  ,\n",
      "        13115333.33, 13061333.33, 13022666.67, 13029333.33])            ]\n"
     ]
    }
   ],
   "source": [
    "import csv\n",
    "import numpy as np\n",
    "from scipy.optimize import curve_fit\n",
    "import matplotlib.pyplot as plt\n",
    "file = open('./Rrod_tolerance_4rod.csv','r')\n",
    "rdr = csv.reader(file)\n",
    "var = [19,18,20] #Put the proper set value in front. This may be Rrod, Hrod, Tilt angle etc. Write all the cases.\n",
    "dt = np.zeros((len(var),5), dtype=object) # Angle / Freq / C / Gtot / Grod\n",
    "data = dict(zip(var,dt))\n",
    "\n",
    "for line in rdr:\n",
    "   for v in var:\n",
    "      if(float(line[1]) == float(v)): \n",
    "         #print(float(line[0]))\n",
    "         data[v][0] = np.append(data[v][0],float(line[0]))\n",
    "         data[v][1] = np.append(data[v][1],float(line[2]))\n",
    "         data[v][2] = np.append(data[v][2],float(line[4]))\n",
    "         data[v][3] = np.append(data[v][3],float(line[-2]))\n",
    "         data[v][4] = np.append(data[v][4],float(line[-1]))\n",
    "for v in var:\n",
    "    for i in range (5):\n",
    "      data[v][i] = data[v][i][1:]\n",
    "print(data[19])"
   ]
  },
  {
   "cell_type": "code",
   "execution_count": 91,
   "metadata": {},
   "outputs": [
    {
     "ename": "ValueError",
     "evalue": "all the input arrays must have same number of dimensions, but the array at index 0 has 1 dimension(s) and the array at index 1 has 2 dimension(s)",
     "output_type": "error",
     "traceback": [
      "\u001b[1;31m---------------------------------------------------------------------------\u001b[0m",
      "\u001b[1;31mValueError\u001b[0m                                Traceback (most recent call last)",
      "\u001b[1;32mc:\\Users\\JooyoungLee\\Desktop\\CAPP\\tolerance.ipynb Cell 2\u001b[0m line \u001b[0;36m1\n\u001b[0;32m      <a href='vscode-notebook-cell:/c%3A/Users/JooyoungLee/Desktop/CAPP/tolerance.ipynb#W1sZmlsZQ%3D%3D?line=8'>9</a>\u001b[0m y \u001b[39m=\u001b[39m data[v][\u001b[39m2\u001b[39m] \u001b[39m#C\u001b[39;00m\n\u001b[0;32m     <a href='vscode-notebook-cell:/c%3A/Users/JooyoungLee/Desktop/CAPP/tolerance.ipynb#W1sZmlsZQ%3D%3D?line=9'>10</a>\u001b[0m popt, pcov \u001b[39m=\u001b[39m curve_fit(cube,x,y)\n\u001b[1;32m---> <a href='vscode-notebook-cell:/c%3A/Users/JooyoungLee/Desktop/CAPP/tolerance.ipynb#W1sZmlsZQ%3D%3D?line=10'>11</a>\u001b[0m data[v] \u001b[39m=\u001b[39m  np\u001b[39m.\u001b[39;49mconcatenate((data[v], popt\u001b[39m.\u001b[39;49mreshape(\u001b[39m1\u001b[39;49m,\u001b[39m-\u001b[39;49m\u001b[39m1\u001b[39;49m)), axis\u001b[39m=\u001b[39;49m\u001b[39m0\u001b[39;49m)\n",
      "\u001b[1;31mValueError\u001b[0m: all the input arrays must have same number of dimensions, but the array at index 0 has 1 dimension(s) and the array at index 1 has 2 dimension(s)"
     ]
    }
   ],
   "source": [
    "def cube(x,a,b,c,d):\n",
    "   return a*np.power(x,3)+b*np.power(x,2)+c*np.power(x,1)+d\n",
    "def func_2(x,a,b,c):\n",
    "   return a*np.power(x,2)+b*np.power(x,1)+c\n",
    "\n",
    "if (type(data[19][-1])!=float):\n",
    "   for v in var:\n",
    "      x = data[v][1] #frequency\n",
    "      y = data[v][2] #C\n",
    "      popt, pcov = curve_fit(cube,x,y)\n",
    "      data[v] =  np.concatenate((data[v], popt), axis=0)\n"
   ]
  }
 ],
 "metadata": {
  "kernelspec": {
   "display_name": "CAPP",
   "language": "python",
   "name": "python3"
  },
  "language_info": {
   "codemirror_mode": {
    "name": "ipython",
    "version": 3
   },
   "file_extension": ".py",
   "mimetype": "text/x-python",
   "name": "python",
   "nbconvert_exporter": "python",
   "pygments_lexer": "ipython3",
   "version": "3.11.5"
  },
  "orig_nbformat": 4
 },
 "nbformat": 4,
 "nbformat_minor": 2
}
